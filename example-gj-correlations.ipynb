{
 "cells": [
  {
   "cell_type": "markdown",
   "metadata": {},
   "source": [
    "### Input: ROOT files with the THnSparses of the same-event and mixed-event correlations, ROOT file with response matrices, and the configuration files used to generate those correlations and response matrices\n",
    "\n",
    "This notebook is just for plotting purposes. It uses the GammaJetCorrelation class, which converts the various histograms to numpy arrays, does various subtractions, and saves the histograms as numpy arrays. The notebook then takes these arrays and generates and saves the plots.\n",
    "\n",
    "This is designed for a single iteration (i.e. a single configuration file), so comparing different iterations together will require modification."
   ]
  },
  {
   "cell_type": "markdown",
   "metadata": {},
   "source": [
    "### Workflow:\n",
    "1. Read config files\n",
    "2. Pull histograms and response matrices from ROOT file(s) and save as ROOT objects\n",
    "3. Make gamma-jet correlation objects, which consist of the following steps:\n",
    "    1. Subtract mixed-event from same-event for both signal-region and background-region. Save these histograms as numpy arrays (for plotting)\n",
    "    2. Subtract background-region from signal-region for both same-event and mixed-event. Save these histograms as numpy arrays (for plotting)\n",
    "    3. Subtract background-region from signal-region. Save this histogram as a numpy array (for plotting)\n",
    "    4. Convert this fully-subtracted correlation to a TH1 for unfolding\n",
    "    5. Unfold with response matrix\n",
    "    6. Convert unfolded correlation to numpy array (for plotting)\n",
    "4. Make and save plots"
   ]
  },
  {
   "cell_type": "code",
   "execution_count": null,
   "metadata": {},
   "outputs": [],
   "source": [
    "workingdir=%pwd\n",
    "%cd -q ../..\n",
    "\n",
    "from __future__ import print_function\n",
    "\n",
    "import matplotlib.pyplot as plt\n",
    "import numpy as np\n",
    "import os\n",
    "import ROOT\n",
    "import root_numpy as rnp\n",
    "import shutil\n",
    "import yaml\n",
    "\n",
    "from gj_correlation import GammaJetCorrelation, getAllCorr\n",
    "from plotstyle import *\n",
    "from unfolder import Unfolder\n",
    "from utils import *\n",
    "\n",
    "ROOT.TH1.AddDirectory(False)\n",
    "ROOT.TH2.AddDirectory(False)\n",
    "\n",
    "%cd $workingdir\n",
    "plotdir = 'plots'\n",
    "if not os.path.exists(plotdir):\n",
    "    os.mkdir(plotdir)"
   ]
  },
  {
   "cell_type": "code",
   "execution_count": null,
   "metadata": {},
   "outputs": [],
   "source": [
    "# load all YAML files\n",
    "with open('config/globalconfig.yaml') as configfile:\n",
    "    configgj = yaml.safe_load(configfile)\n",
    "    \n",
    "with open('config/systemconfig.yaml') as configfile:\n",
    "    configsys = yaml.safe_load(configfile)\n",
    "\n",
    "with open('config/runconfig.yaml') as configfile:\n",
    "    configrun = yaml.safe_load(configfile)\n",
    "\n",
    "configall = {}\n",
    "configall.update(configgj)\n",
    "configall.update(configsys)\n",
    "configall.update(configrun)\n",
    "\n",
    "centranges = [tuple(centrange) for centrange in configsys['centralityranges']]\n",
    "photonptranges = [tuple(ptrange) for ptrange in configsys['clusterptranges']]\n",
    "observables = [obs['name'] for obs in configgj['observables']]\n",
    "observableInfo = {obs['name']: obs for obs in configgj['observables']}\n",
    "\n",
    "for observable in observables:\n",
    "    obsdir = '{0}/{1}'.format(plotdir, observable)\n",
    "    if not os.path.exists(obsdir):\n",
    "        os.mkdir(obsdir)"
   ]
  },
  {
   "cell_type": "code",
   "execution_count": null,
   "metadata": {},
   "outputs": [],
   "source": [
    "# make any *minor* changes to the configuration here\n",
    "# (e.g. jetpt cut, deltaphi cut, number of bins -- things that do not affect the creation of the THnSparses)\n",
    "# this should only be done for exploring these variations\n",
    "# any real changes should be made in the (global) configuration file\n",
    "def setJetPtRange(ptmin, ptmax):\n",
    "    observableInfo['deltaphi']['cuts']['jetpt'] = {'min': ptmin, 'max': ptmax, 'text': '{0} < $p_\\mathrm{{T}}^\\mathrm{{jet}}$ < {1} GeV/$c$'.format(ptmin, ptmax)}\n",
    "    observableInfo['ptratio']['cuts']['jetpt'] = {'min': ptmin, 'max': ptmax, 'text': '{0} < $p_\\mathrm{{T}}^\\mathrm{{jet}}$ < {1} GeV/$c$'.format(ptmin, ptmax)}\n",
    "    \n",
    "def setDeltaPhiMin(num, den):\n",
    "    # num, den: the numerator and denominator of the fraction of pi to be used as the minimum deltaphi pt cut\n",
    "    observableInfo['jetpt']['cuts']['deltaphi'] = {'min': np.pi * num / den, 'max': np.pi, 'text': '{0}$\\pi$/{1} < $\\Delta\\varphi$ < $\\pi$'.format(num, den)}\n",
    "    observableInfo['ptratio']['cuts']['deltaphi'] = {'min': np.pi * num / den, 'max': np.pi, 'text': '{0}$\\pi$/{1} < $\\Delta\\varphi$ < $\\pi$'.format(num, den)}\n",
    "\n",
    "def useNbins(observable, nbins):\n",
    "    if 120 % nbins == 0:\n",
    "        observableInfo[observable]['nbins'] = nbins\n",
    "    else:\n",
    "        print('Cannot use {0} bins as it is not a multiple of 120'.format(nbins))"
   ]
  },
  {
   "cell_type": "code",
   "execution_count": null,
   "metadata": {},
   "outputs": [],
   "source": [
    "# get correlation objects\n",
    "rootfileSE = configrun['filelists']['correlations']['sameevent']\n",
    "rootfileME = configrun['filelists']['correlations']['mixedevent']\n",
    "rootfileMEskim5090 = rootfileME.replace('.root', '_skimcent5090.root')\n",
    "rootfileRM = configrun['filelists']['correlations']['responsematrix']\n",
    "\n",
    "allCorr = getAllCorr(centranges, photonptranges, observableInfo, rootfileSE, rootfileME, rootfileRM)\n",
    "allCorrskim5090 = getAllCorr([(50, 90)], photonptranges, observableInfo, rootfileSE, rootfileME, rootfileRM)\n",
    "allCorr[(50, 90)] = allCorrskim5090[(50, 90)]\n",
    "\n",
    "allCorr['longname'] = configrun['longname']\n",
    "allCorr['shortname'] = configrun['shortname']"
   ]
  },
  {
   "cell_type": "markdown",
   "metadata": {},
   "source": [
    "## Print configuration for future reference"
   ]
  },
  {
   "cell_type": "code",
   "execution_count": null,
   "metadata": {
    "scrolled": true
   },
   "outputs": [],
   "source": [
    "print(configall)"
   ]
  },
  {
   "cell_type": "markdown",
   "metadata": {},
   "source": [
    "## Correlation plots"
   ]
  },
  {
   "cell_type": "code",
   "execution_count": null,
   "metadata": {},
   "outputs": [],
   "source": [
    "# plot all raw correlations on same plot\n",
    "for observable in ['deltaphi', 'ptratio']:\n",
    "    for centrange in centranges:\n",
    "        fig = plt.figure(figsize=(len(photonptranges) * 8, 8))\n",
    "        for (icol, photonptrange) in enumerate(photonptranges):\n",
    "            gjCorr = allCorr[centrange][photonptrange][observable]\n",
    "\n",
    "            plt.subplot(1, len(photonptranges), icol + 1)\n",
    "            gjCorr.plotCorr('sesr', fmt='C0o', fillstyle='none', label='SESR')\n",
    "            gjCorr.plotCorr('sebr', fmt='C0o-', fillstyle='none', alpha=0.4, label='SEBR')\n",
    "            gjCorr.plotCorr('mesr', fmt='C1s', fillstyle='none', label='MESR')\n",
    "            gjCorr.plotCorr('mebr', fmt='C1s-', fillstyle='none', alpha=0.4, label='MEBR')\n",
    "\n",
    "            if icol == len(photonptranges) - 1:\n",
    "                plt.legend(loc=observableInfo[observable]['legendLoc'])\n",
    "\n",
    "            if observableInfo[observable]['isLog']:\n",
    "                plt.yscale('log')\n",
    "\n",
    "            plt.xlabel(observableInfo[observable]['xlabel'])\n",
    "\n",
    "            if icol == 0:\n",
    "                plt.ylabel(observableInfo[observable]['ylabel'])\n",
    "                infotext = '{0}, {1}-{2}%'.format(allCorr['longname'], centrange[0], centrange[1])\n",
    "                plt.annotate(infotext, **observableInfo[observable]['systemtextplacement'])\n",
    "\n",
    "            infotext = '{0} < $p_\\mathrm{{T}}^\\mathrm{{cluster}}$ < {1} GeV/$c$'.format(photonptrange[0], photonptrange[1])\n",
    "            for cut in observableInfo[observable]['cuts']:\n",
    "                infotext = infotext + '\\n' + observableInfo[observable]['cuts'][cut]['text']\n",
    "            plt.annotate(infotext, **observableInfo[observable]['pttextplacement'])\n",
    "\n",
    "        fig.savefig('{0}/{1}/sesr-sebr-mesr-mebr-{2}-{3}-{4}.png'.format(plotdir, observable, allCorr['shortname'], centrange[0], centrange[1]))"
   ]
  },
  {
   "cell_type": "code",
   "execution_count": null,
   "metadata": {},
   "outputs": [],
   "source": [
    "# make BR-subtracted SE and ME plots\n",
    "for observable in ['deltaphi', 'ptratio']:\n",
    "    for centrange in centranges:\n",
    "        fig = plt.figure(figsize=(len(photonptranges) * 8, 8))\n",
    "        for (icol, photonptrange) in enumerate(photonptranges):\n",
    "            gjCorr = allCorr[centrange][photonptrange][observable]\n",
    "\n",
    "            plt.subplot(1, len(photonptranges), icol + 1)\n",
    "            gjCorr.plotCorr('se', fmt='C0o', label='SE')\n",
    "            gjCorr.plotCorr('me', fmt='C1s', label='ME')\n",
    "\n",
    "            if icol == len(photonptranges) - 1:\n",
    "                plt.legend(loc=observableInfo[observable]['legendLoc'])\n",
    "\n",
    "            if observableInfo[observable]['isLog']:\n",
    "                plt.yscale('log')\n",
    "\n",
    "            plt.xlabel(observableInfo[observable]['xlabel'])\n",
    "\n",
    "            if icol == 0:\n",
    "                plt.ylabel(observableInfo[observable]['ylabel'])\n",
    "                infotext = '{0}, {1}-{2}%'.format(allCorr['longname'], centrange[0], centrange[1])\n",
    "                plt.annotate(infotext, **observableInfo[observable]['systemtextplacement'])\n",
    "\n",
    "            infotext = '{0} < $p_\\mathrm{{T}}^\\mathrm{{cluster}}$ < {1} GeV/$c$'.format(photonptrange[0], photonptrange[1])\n",
    "            for cut in observableInfo[observable]['cuts']:\n",
    "                infotext = infotext + '\\n' + observableInfo[observable]['cuts'][cut]['text']\n",
    "            plt.annotate(infotext, **observableInfo[observable]['pttextplacement'])\n",
    "\n",
    "        fig.savefig('{0}/{1}/se-me-{2}-{3}-{4}.png'.format(plotdir, observable, allCorr['shortname'], centrange[0], centrange[1]))"
   ]
  },
  {
   "cell_type": "code",
   "execution_count": null,
   "metadata": {},
   "outputs": [],
   "source": [
    "# make ME-subtracted SR and BR plots\n",
    "for observable in ['deltaphi', 'ptratio']:\n",
    "    for centrange in centranges:\n",
    "        fig = plt.figure(figsize=(len(photonptranges) * 8, 8))\n",
    "        for (icol, photonptrange) in enumerate(photonptranges):\n",
    "            gjCorr = allCorr[centrange][photonptrange][observable]\n",
    "\n",
    "            plt.subplot(1, len(photonptranges), icol + 1)\n",
    "            gjCorr.plotCorr('sr', fmt='C0o', label='SR')\n",
    "            gjCorr.plotCorr('br', fmt='C1s', label='BR')\n",
    "\n",
    "            if icol == len(photonptranges) - 1:\n",
    "                plt.legend(loc=observableInfo[observable]['legendLoc'])\n",
    "\n",
    "            if observableInfo[observable]['isLog']:\n",
    "                plt.yscale('log')\n",
    "\n",
    "            plt.xlabel(observableInfo[observable]['xlabel'])\n",
    "\n",
    "            if icol == 0:\n",
    "                plt.ylabel(observableInfo[observable]['ylabel'])\n",
    "                infotext = '{0}, {1}-{2}%'.format(allCorr['longname'], centrange[0], centrange[1])\n",
    "                plt.annotate(infotext, **observableInfo[observable]['systemtextplacement'])\n",
    "\n",
    "            infotext = '{0} < $p_\\mathrm{{T}}^\\mathrm{{cluster}}$ < {1} GeV/$c$'.format(photonptrange[0], photonptrange[1])\n",
    "            for cut in observableInfo[observable]['cuts']:\n",
    "                infotext = infotext + '\\n' + observableInfo[observable]['cuts'][cut]['text']\n",
    "            plt.annotate(infotext, **observableInfo[observable]['pttextplacement'])\n",
    "\n",
    "        fig.savefig('{0}/{1}/sr-br-{2}-{3}-{4}.png'.format(plotdir, observable, allCorr['shortname'], centrange[0], centrange[1]))"
   ]
  },
  {
   "cell_type": "code",
   "execution_count": null,
   "metadata": {},
   "outputs": [],
   "source": [
    "# make fully-subtracted correlation plots\n",
    "for observable in ['deltaphi', 'ptratio']:\n",
    "    for centrange in centranges:\n",
    "        fig = plt.figure(figsize=(len(photonptranges) * 8, 8))\n",
    "        for (icol, photonptrange) in enumerate(photonptranges):\n",
    "            plt.subplot(1, len(photonptranges), icol + 1)\n",
    "            corr = allCorr[centrange][photonptrange][observable]\n",
    "            corr.plotCorr('corr', fmt='o', label=allCorr['longname'])\n",
    "                        \n",
    "            if observableInfo[observable]['isLog']:\n",
    "                plt.yscale('log')\n",
    "                \n",
    "            plt.xlabel(observableInfo[observable]['xlabel'])\n",
    "            \n",
    "            if icol == 0:\n",
    "                plt.ylabel(observableInfo[observable]['ylabel'])\n",
    "                infotext = '{0}, {1}-{2}%'.format('Pb-Pb', centrange[0], centrange[1])\n",
    "                plt.annotate(infotext, **observableInfo[observable]['systemtextplacement'])\n",
    "                \n",
    "            infotext = '{0} < $p_\\mathrm{{T}}^\\mathrm{{cluster}}$ < {1} GeV/$c$'.format(photonptrange[0], photonptrange[1])\n",
    "            for cut in observableInfo[observable]['cuts']:\n",
    "                infotext = infotext + '\\n' + observableInfo[observable]['cuts'][cut]['text']\n",
    "            plt.annotate(infotext, **observableInfo[observable]['pttextplacement'])\n",
    "            \n",
    "        fig.savefig('{0}/{1}/corr-measured-{2}-{3}.png'.format(plotdir, observable, centrange[0], centrange[1]))"
   ]
  },
  {
   "cell_type": "markdown",
   "metadata": {},
   "source": [
    "## Trigger counts"
   ]
  },
  {
   "cell_type": "code",
   "execution_count": null,
   "metadata": {},
   "outputs": [],
   "source": [
    "print('Delta phi trigger/cluster-ME match counts')\n",
    "print('----------------------------------------------------------------')\n",
    "print('Centrality| Cluster pT|ntrig SESR|ntrig SEBR|nmix MESR|nmix MEBR')\n",
    "for centrange in centranges:\n",
    "    print('----------------------------------------------------------------')\n",
    "    for photonptrange in photonptranges:\n",
    "        corr = allCorr[centrange][photonptrange]['deltaphi']\n",
    "        sesrntrig = int(corr.sesrntrig)\n",
    "        sebrntrig = int(corr.sebrntrig)\n",
    "        srnmix = int(corr.srnmix)\n",
    "        brnmix = int(corr.brnmix)\n",
    "        print('{0:6d}-{1}%|{2}-{3} GeV/c|{4:10d}|{5:10d}|{6:9d}|{7:9d}'.format(centrange[0], centrange[1], photonptrange[0], photonptrange[1], sesrntrig, sebrntrig, srnmix, brnmix))"
   ]
  }
 ],
 "metadata": {
  "kernelspec": {
   "display_name": "Python 2",
   "language": "python",
   "name": "python2"
  },
  "language_info": {
   "codemirror_mode": {
    "name": "ipython",
    "version": 2
   },
   "file_extension": ".py",
   "mimetype": "text/x-python",
   "name": "python",
   "nbconvert_exporter": "python",
   "pygments_lexer": "ipython2",
   "version": "2.7.12"
  }
 },
 "nbformat": 4,
 "nbformat_minor": 2
}
